{
  "nbformat": 4,
  "nbformat_minor": 0,
  "metadata": {
    "colab": {
      "provenance": []
    },
    "kernelspec": {
      "name": "python3",
      "display_name": "Python 3"
    },
    "language_info": {
      "name": "python"
    }
  },
  "cells": [
    {
      "cell_type": "markdown",
      "source": [
        "Q1. Create a List L that is defined as= [10, 20, 30, 40, 50, 60, 70, 80].\n",
        "    i. WAP to add 200 and 300 to L.\n",
        "    ii. WAP to remove 10 and 30 from L.\n",
        "    iii. WAP to sort L in ascending order.\n",
        "    iv. WAP to sort L in descending order."
      ],
      "metadata": {
        "id": "V1RepJfuVb50"
      }
    },
    {
      "cell_type": "code",
      "source": [
        "L=[10, 20, 30, 40, 50, 60, 70, 80]\n",
        "L.extend([100,200])\n",
        "L.remove(10)\n",
        "L.remove(30)\n",
        "L.sort\n",
        "print(L)\n",
        "L.sort(reverse=True)\n",
        "print(L)"
      ],
      "metadata": {
        "colab": {
          "base_uri": "https://localhost:8080/"
        },
        "id": "pdgMbxVEVeC9",
        "outputId": "57feba77-b9ec-4b1e-9774-03d7712cc434"
      },
      "execution_count": 9,
      "outputs": [
        {
          "output_type": "stream",
          "name": "stdout",
          "text": [
            "[20, 40, 50, 60, 70, 80, 100, 200]\n",
            "[200, 100, 80, 70, 60, 50, 40, 20]\n"
          ]
        }
      ]
    },
    {
      "cell_type": "markdown",
      "source": [
        "##2. Create a tuple of marks scored as scores = (45, 89.5, 76, 45.4, 89, 92, 58, 45) and perform the following operations using tuple functions:\n",
        "i. Identify the highest score and its index in the tuple.\n",
        "ii. Find the lowest score and count how many times it appears.\n",
        "iii. Reverse the tuple and return it as a list.\n",
        "iv. Check if a specific score ‘76’ (input by the user) is present in the tuple and print its first occurrence index, or a message saying it’s not present."
      ],
      "metadata": {
        "id": "4xA58Mu2aTw4"
      }
    },
    {
      "cell_type": "code",
      "source": [
        "scores = (45, 89.5, 76, 45.4, 89, 92, 58, 45)\n",
        "\n",
        "highest_score = max(scores)\n",
        "highest_index = scores.index(highest_score)\n",
        "\n",
        "lowest_score = min(scores)\n",
        "lowest_count = scores.count(lowest_score)\n",
        "reversed_list = list(scores[::-1])\n",
        "specific_score = 76\n",
        "if specific_score in scores:\n",
        "    first_occurrence_index = scores.index(specific_score)\n",
        "    score_message = f\"The score {specific_score} is present at index {first_occurrence_index}.\"\n",
        "else:\n",
        "    score_message = f\"The score {specific_score} is not present in the tuple.\"\n",
        "\n",
        "highest_score, highest_index, lowest_score, lowest_count, reversed_list, score_message\n"
      ],
      "metadata": {
        "colab": {
          "base_uri": "https://localhost:8080/"
        },
        "id": "EXOwYGSeAMWo",
        "outputId": "0017b475-cf30-4263-db31-2bb3be602e62"
      },
      "execution_count": 1,
      "outputs": [
        {
          "output_type": "execute_result",
          "data": {
            "text/plain": [
              "(92,\n",
              " 5,\n",
              " 45,\n",
              " 2,\n",
              " [45, 58, 92, 89, 45.4, 76, 89.5, 45],\n",
              " 'The score 76 is present at index 2.')"
            ]
          },
          "metadata": {},
          "execution_count": 1
        }
      ]
    },
    {
      "cell_type": "markdown",
      "source": [
        "#WAP to create a list of 100 random numbers between 100 and 900. Count and print the:\n",
        "*i. All odd numbers\n",
        "ii. All even numbers\n",
        "iii. All prime numbers*"
      ],
      "metadata": {
        "id": "ja1LyT4cAuok"
      }
    },
    {
      "source": [
        "import random\n",
        "\n",
        "random_numbers = [random.randint(100, 900) for _ in range(100)]\n",
        "\n",
        "def is_prime(num):\n",
        "    if num <= 1:\n",
        "        return False\n",
        "    for i in range(2, int(num**0.5) + 1):\n",
        "        if num % i == 0:\n",
        "            return False\n",
        "    return True\n",
        "\n",
        "odd_numbers = [num for num in random_numbers if num % 2 != 0]\n",
        "\n",
        "even_numbers = [num for num in random_numbers if num % 2 == 0]\n",
        "\n",
        "prime_numbers = [num for num in random_numbers if is_prime(num)]\n",
        "\n",
        "print(\"Total odd numbers:\", len(odd_numbers))\n",
        "print(\"Sample odd numbers:\", odd_numbers[:10])\n",
        "\n",
        "print(\"Total even numbers: \", len(even_numbers))\n",
        "print(\"Sample even numbers: \", even_numbers[:10])\n",
        "\n",
        "print(\"Total prime numbers: \", len(prime_numbers))\n",
        "print(\"Sample prime numbers: \", prime_numbers[:10])"
      ],
      "cell_type": "code",
      "metadata": {
        "colab": {
          "base_uri": "https://localhost:8080/"
        },
        "id": "NO-M1LP4CB2l",
        "outputId": "dcb3ce7f-020e-491c-a920-9bc4dde057f9"
      },
      "execution_count": 6,
      "outputs": [
        {
          "output_type": "stream",
          "name": "stdout",
          "text": [
            "Total odd numbers: 45\n",
            "Sample odd numbers: [385, 735, 841, 895, 353, 865, 305, 131, 291, 843]\n",
            "Total even numbers:  55\n",
            "Sample even numbers:  [736, 818, 816, 806, 270, 170, 828, 804, 724, 124]\n",
            "Total prime numbers:  11\n",
            "Sample prime numbers:  [353, 131, 521, 101, 547, 443, 797, 103, 241, 541]\n"
          ]
        }
      ]
    },
    {
      "cell_type": "markdown",
      "source": [
        "##Consider the following two sets, A and B, represenƟng scores of two teams in multiple matches. A = {34, 56, 78, 90} and B = {78, 45, 90, 23}\n",
        "*WAP to perform the following operations using set functions:*\n",
        "\n",
        "*i. Find the unique scores achieved by both teams (union of sets).*\n",
        "\n",
        "*ii. Identify the scores that are common to both teams (intersecƟon of sets).*\n",
        "\n",
        "*iii. Find the scores that are exclusive to each team (symmetric difference).*\n",
        "\n",
        "*iv. Check if the scores of team A are a subset of team B, and if team B's scores are a superset of team A.*\n",
        "\n",
        "*v. Remove a specific score X (input by the user) from set A if it exists. If not, print a message saying it is not present.*"
      ],
      "metadata": {
        "id": "aAHXm-UlCcvU"
      }
    },
    {
      "cell_type": "code",
      "source": [
        "A = {34, 56, 78, 90}\n",
        "B = {78, 45, 90, 23}\n",
        "\n",
        "unique_scores = A.union(B)\n",
        "common_scores = A.intersection(B)\n",
        "exclusive_scores = A.symmetric_difference(B)\n",
        "is_A_subset_of_B = A.issubset(B)\n",
        "is_B_superset_of_A = B.issuperset(A)\n",
        "specific_score = 78\n",
        "\n",
        "if specific_score in A:\n",
        "    A.remove(specific_score)\n",
        "    remove_message = f\"Score {specific_score} removed from set A.\"\n",
        "else:\n",
        "    remove_message = f\"Score {specific_score} is not present in set A.\"\n",
        "\n",
        "print(\"Unique scores:\", unique_scores)\n",
        "print(\"Common scores:\", common_scores)\n",
        "print(\"Exclusive scores:\", exclusive_scores)\n",
        "print(\"Is A a subset of B:\", is_A_subset_of_B)\n",
        "print(\"Is B a superset of A:\", is_B_superset_of_A)\n",
        "print(\"Updated set A:\", A)\n",
        "print(remove_message)"
      ],
      "metadata": {
        "colab": {
          "base_uri": "https://localhost:8080/"
        },
        "id": "DMczSFBsCceH",
        "outputId": "fc643c4f-7cb6-4501-e4f1-fd44fbe17dbb"
      },
      "execution_count": 8,
      "outputs": [
        {
          "output_type": "stream",
          "name": "stdout",
          "text": [
            "Unique scores: {34, 45, 78, 23, 56, 90}\n",
            "Common scores: {90, 78}\n",
            "Exclusive scores: {34, 45, 23, 56}\n",
            "Is A a subset of B: False\n",
            "Is B a superset of A: False\n",
            "Updated set A: {56, 34, 90}\n",
            "Score 78 removed from set A.\n"
          ]
        }
      ]
    },
    {
      "cell_type": "markdown",
      "source": [
        "#5. Write a program to rename a key city to a location in the following dicƟonary."
      ],
      "metadata": {
        "id": "cRJSNtfRFFCk"
      }
    },
    {
      "cell_type": "code",
      "source": [
        "sample_dict = {\n",
        "    \"name\": \"Kelly\",\n",
        "    \"age\": 25,\n",
        "    \"salary\": 8000,\n",
        "    \"city\": \"New york\"\n",
        "}\n",
        "\n",
        "sample_dict[\"location\"] = sample_dict.pop(\"city\")\n",
        "\n",
        "print(sample_dict)\n"
      ],
      "metadata": {
        "colab": {
          "base_uri": "https://localhost:8080/"
        },
        "id": "Mx9gupLSFFVL",
        "outputId": "649177bf-c0c1-44ce-904a-0514e08f171e"
      },
      "execution_count": 9,
      "outputs": [
        {
          "output_type": "stream",
          "name": "stdout",
          "text": [
            "{'name': 'Kelly', 'age': 25, 'salary': 8000, 'location': 'New york'}\n"
          ]
        }
      ]
    }
  ]
}