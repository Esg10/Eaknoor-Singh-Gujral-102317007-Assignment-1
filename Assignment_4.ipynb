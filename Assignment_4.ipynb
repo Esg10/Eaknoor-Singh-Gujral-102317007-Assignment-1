{
  "nbformat": 4,
  "nbformat_minor": 0,
  "metadata": {
    "colab": {
      "provenance": []
    },
    "kernelspec": {
      "name": "python3",
      "display_name": "Python 3"
    },
    "language_info": {
      "name": "python"
    }
  },
  "cells": [
    {
      "cell_type": "markdown",
      "source": [
        "#Q.1 Write a program to create a NumPy 1D-array with 5 elements and perform basic operations like:\n",
        "*a) Addition of 2 in all the element*\n",
        "*b) Multiply 3 with all the elements*\n",
        "*c) Divide every element by 2*"
      ],
      "metadata": {
        "id": "KBHKo-nLeKGU"
      }
    },
    {
      "cell_type": "code",
      "execution_count": 3,
      "metadata": {
        "colab": {
          "base_uri": "https://localhost:8080/"
        },
        "id": "zBShhQJeS0lP",
        "outputId": "d3d45aa2-3e80-4f05-c3ed-7e94561d02fa"
      },
      "outputs": [
        {
          "output_type": "stream",
          "name": "stdout",
          "text": [
            "[3 4 5 6 7]\n",
            "[ 3  6  9 12 15]\n",
            "[0.5 1.  1.5 2.  2.5]\n"
          ]
        }
      ],
      "source": [
        "import numpy as np\n",
        "a=np.array([1,2,3,4,5])\n",
        "print(a+2)\n",
        "print(a*3)\n",
        "print(a/2)"
      ]
    },
    {
      "cell_type": "markdown",
      "source": [
        "##Q.2 Questions on Basic NumPy Array:\n",
        "*a. Reverse the NumPy array: arr = np.array([1, 2, 3, 6, 4, 5])*"
      ],
      "metadata": {
        "id": "IWu5T7Wueqts"
      }
    },
    {
      "cell_type": "code",
      "source": [
        "import numpy as np\n",
        "b=np.array([1, 2, 3, 6, 4, 5])\n",
        "print(b)\n",
        "rev=np.flip(b)\n",
        "print(rev)"
      ],
      "metadata": {
        "colab": {
          "base_uri": "https://localhost:8080/"
        },
        "id": "f_WUMhuLUtK6",
        "outputId": "5a43f79e-0630-428d-b406-1020d707a0ea"
      },
      "execution_count": 5,
      "outputs": [
        {
          "output_type": "stream",
          "name": "stdout",
          "text": [
            "[1 2 3 6 4 5]\n",
            "[5 4 6 3 2 1]\n"
          ]
        }
      ]
    },
    {
      "cell_type": "markdown",
      "source": [
        "*b.Find the most frequent value and their indice(s) in the following arrays:*\n",
        "* i. x = np.array([1,2,3,4,5,1,2,1,1,1])\n",
        "* ii. y = np.array([1, 1, 1, 2, 3, 4, 2, 4, 3, 3, ])"
      ],
      "metadata": {
        "id": "61Ire_6HfW1i"
      }
    },
    {
      "cell_type": "code",
      "source": [
        "import numpy as np\n",
        "x = np.array([1,2,3,4,5,1,2,1,1,1])\n",
        "y = np.array([1, 1, 1, 2, 3, 4, 2, 4, 3, 3, 3,])\n",
        "print(\"Most frequent value in above array\")\n",
        "g = np.bincount(x)\n",
        "maximum = max(g)\n",
        "\n",
        "for i in range(len(g)):\n",
        "    if g[i] == maximum:\n",
        "        print(i, end=\" \" \"\\n\")\n",
        "\n",
        "print(\"Most frequent value in above array \")\n",
        "\n",
        "f = np.bincount(y)\n",
        "maximum = max(f)\n",
        "\n",
        "for i in range(len(f)):\n",
        "    if f[i] == maximum:\n",
        "        print(i, end=\" \")\n"
      ],
      "metadata": {
        "colab": {
          "base_uri": "https://localhost:8080/"
        },
        "id": "tTWtQ_krWDQ4",
        "outputId": "40edd31d-5797-4061-9ae8-451a134f49e1"
      },
      "execution_count": 16,
      "outputs": [
        {
          "output_type": "stream",
          "name": "stdout",
          "text": [
            "Most frequent value in above array\n",
            "1 \n",
            "Most frequent value in above array \n",
            "3 "
          ]
        }
      ]
    },
    {
      "cell_type": "markdown",
      "source": [
        "# Q.3 For the given 2-D array arr=np.array([10, 20, 30], [40, 50, 60], [70, 80, 90]), access elements using row and column indices as follows:\n",
        "* a) Access 1st row, 2nd column\n",
        "* b) Access 3rd row, 1st column"
      ],
      "metadata": {
        "id": "OsqjbSfxfurd"
      }
    },
    {
      "cell_type": "code",
      "source": [
        "import numpy as np\n",
        "arr= np.array([[10, 20, 30], [40, 50, 60], [70, 80, 90]])\n",
        "print(arr[0,1])\n",
        "print(arr[2,0])"
      ],
      "metadata": {
        "colab": {
          "base_uri": "https://localhost:8080/"
        },
        "id": "WoU5XMuRXbXR",
        "outputId": "7ab7525f-4384-44fa-fd4d-7e305f3965c0"
      },
      "execution_count": 19,
      "outputs": [
        {
          "output_type": "stream",
          "name": "stdout",
          "text": [
            "20\n",
            "70\n"
          ]
        }
      ]
    },
    {
      "cell_type": "markdown",
      "source": [
        "#Q.4 Write program to create an 1-D NumPy array named <<Your Name>> with evenly spaced 25 numbers from 10 to 100 using linspace(). Print the dimensions of the array, shape, total elements, the data type of each element and total number of bytes consumed by the array. Find the transpose of this array using reshape() attribute. Can we do the same with T attribute?"
      ],
      "metadata": {
        "id": "_5NGLfGQf7qY"
      }
    },
    {
      "cell_type": "code",
      "source": [
        "import numpy as np\n",
        "\n",
        "spaced_arr = np.linspace(10, 100, 25)\n",
        "\n",
        "print(\"Array:\", spaced_arr)\n",
        "print(\"Dimensions of the array:\", spaced_arr.ndim)\n",
        "print(\"Shape of the array:\", spaced_arr.shape)\n",
        "print(\"Total number of elements:\", spaced_arr.size)\n",
        "print(\"Data type of each element:\", spaced_arr.dtype)\n",
        "print(\"Total number of bytes consumed by the array:\", spaced_arr.nbytes)\n",
        "\n",
        "spaced_arr_transposed = spaced_arr.reshape(25, 1)\n",
        "print(\"Transposed Array using reshape():\\n\", spaced_arr_transposed)\n",
        "spaced_arr_T = spaced_arr.T\n",
        "print(\"Transposed Array using T attribute:\\n\", spaced_arr_T)\n",
        "## No, the .T attribute does not affect a 1-D array since it remains a 1-D row vector. Only reshaping changes its structure. ##"
      ],
      "metadata": {
        "colab": {
          "base_uri": "https://localhost:8080/"
        },
        "id": "pw4s68v3ZOGg",
        "outputId": "9e3f62e9-1007-4c04-8997-14155d96f61a"
      },
      "execution_count": 24,
      "outputs": [
        {
          "output_type": "stream",
          "name": "stdout",
          "text": [
            "Array: [ 10.    13.75  17.5   21.25  25.    28.75  32.5   36.25  40.    43.75\n",
            "  47.5   51.25  55.    58.75  62.5   66.25  70.    73.75  77.5   81.25\n",
            "  85.    88.75  92.5   96.25 100.  ]\n",
            "Dimensions of the array: 1\n",
            "Shape of the array: (25,)\n",
            "Total number of elements: 25\n",
            "Data type of each element: float64\n",
            "Total number of bytes consumed by the array: 200\n",
            "Transposed Array using reshape():\n",
            " [[ 10.  ]\n",
            " [ 13.75]\n",
            " [ 17.5 ]\n",
            " [ 21.25]\n",
            " [ 25.  ]\n",
            " [ 28.75]\n",
            " [ 32.5 ]\n",
            " [ 36.25]\n",
            " [ 40.  ]\n",
            " [ 43.75]\n",
            " [ 47.5 ]\n",
            " [ 51.25]\n",
            " [ 55.  ]\n",
            " [ 58.75]\n",
            " [ 62.5 ]\n",
            " [ 66.25]\n",
            " [ 70.  ]\n",
            " [ 73.75]\n",
            " [ 77.5 ]\n",
            " [ 81.25]\n",
            " [ 85.  ]\n",
            " [ 88.75]\n",
            " [ 92.5 ]\n",
            " [ 96.25]\n",
            " [100.  ]]\n",
            "Transposed Array using T attribute:\n",
            " [ 10.    13.75  17.5   21.25  25.    28.75  32.5   36.25  40.    43.75\n",
            "  47.5   51.25  55.    58.75  62.5   66.25  70.    73.75  77.5   81.25\n",
            "  85.    88.75  92.5   96.25 100.  ]\n"
          ]
        }
      ]
    },
    {
      "cell_type": "markdown",
      "source": [
        "# Q5. Create a 2-D Array of three rows and four columns, named ucs420_<your_name>> with following values – 10, 20, 30, 40, 50, 60, 70, 80, 90, 15, 20, 35. Compute the mean, median, max, min, unique elements. Reshape the array to four rows and three columns and name it as reshaped_ucs420_<your_name>>. Resize the array to two rows and three columns and name it as resized_ ucs420_<your_name>>."
      ],
      "metadata": {
        "id": "ui1JKtKigPRO"
      }
    },
    {
      "cell_type": "code",
      "source": [
        "import numpy as np\n",
        "ucs420= np.array([[10, 20, 30, 40],[50, 60, 70, 80],[90, 15, 20, 35]])\n",
        "mean_value = np.mean(ucs420)\n",
        "median_value = np.median(ucs420)\n",
        "max_value = np.max(ucs420)\n",
        "min_value = np.min(ucs420)\n",
        "unique_elements = np.unique(ucs420)\n",
        "print(\"Original 2-D Array:\\n\", ucs420,\"\\n\")\n",
        "print(\"Mean:\", mean_value)\n",
        "print(\"Median:\", median_value)\n",
        "print(\"Max:\", max_value)\n",
        "print(\"Min:\", min_value)\n",
        "print(\"Unique elements:\", unique_elements,\"\\n\")\n",
        "reshaped_ucs420 = ucs420.reshape(4,3)\n",
        "resized_ucs420 = np.resize(ucs420, (2,3))\n",
        "print(reshaped_ucs420 ,\"\\n\")\n",
        "print(resized_ucs420 ,\"\\n\")"
      ],
      "metadata": {
        "colab": {
          "base_uri": "https://localhost:8080/"
        },
        "id": "STA9NaLjbzAW",
        "outputId": "59b7611a-21b1-4361-af42-ef0269e7c338"
      },
      "execution_count": 33,
      "outputs": [
        {
          "output_type": "stream",
          "name": "stdout",
          "text": [
            "Original 2-D Array:\n",
            " [[10 20 30 40]\n",
            " [50 60 70 80]\n",
            " [90 15 20 35]] \n",
            "\n",
            "Mean: 43.333333333333336\n",
            "Median: 37.5\n",
            "Max: 90\n",
            "Min: 10\n",
            "Unique elements: [10 15 20 30 35 40 50 60 70 80 90] \n",
            "\n",
            "[[10 20 30]\n",
            " [40 50 60]\n",
            " [70 80 90]\n",
            " [15 20 35]] \n",
            "\n",
            "[[10 20 30]\n",
            " [40 50 60]] \n",
            "\n"
          ]
        }
      ]
    }
  ]
}