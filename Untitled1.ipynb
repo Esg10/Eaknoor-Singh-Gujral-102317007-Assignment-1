{
  "nbformat": 4,
  "nbformat_minor": 0,
  "metadata": {
    "colab": {
      "provenance": []
    },
    "kernelspec": {
      "name": "python3",
      "display_name": "Python 3"
    },
    "language_info": {
      "name": "python"
    }
  },
  "cells": [
    {
      "cell_type": "markdown",
      "source": [
        "**Assingment 1.1**: WAP to print your name three times\n",
        "\n"
      ],
      "metadata": {
        "id": "_XrAeLT0k1nr"
      }
    },
    {
      "cell_type": "code",
      "source": [
        "name = input(\"Enter your name: \")\n",
        "\n",
        "for _ in range(3):\n",
        "    print(name)\n"
      ],
      "metadata": {
        "colab": {
          "base_uri": "https://localhost:8080/"
        },
        "id": "EnfrT8fMrCYC",
        "outputId": "96236c7e-08b8-44e7-a74a-b9894b7d5050"
      },
      "execution_count": 3,
      "outputs": [
        {
          "output_type": "stream",
          "name": "stdout",
          "text": [
            "Enter your name: esg\n",
            "esg\n",
            "esg\n",
            "esg\n"
          ]
        }
      ]
    },
    {
      "cell_type": "markdown",
      "source": [
        "**Assingment 2.1**: WAP to add three numbers and print the result.\n",
        "\n"
      ],
      "metadata": {
        "id": "dSFvT-kZk1_n"
      }
    },
    {
      "cell_type": "code",
      "source": [
        "num1 = float(input(\"Enter the first number: \"))\n",
        "num2 = float(input(\"Enter the second number: \"))\n",
        "num3 = float(input(\"Enter the third number: \"))\n",
        "\n",
        "result = num1 + num2 + num3\n",
        "\n",
        "print(f\"The sum of the three numbers is: {result}\")\n"
      ],
      "metadata": {
        "colab": {
          "base_uri": "https://localhost:8080/"
        },
        "id": "yInwsE3brBwm",
        "outputId": "366ddbf1-41a6-4c7a-ff68-6e793e297a2c"
      },
      "execution_count": 4,
      "outputs": [
        {
          "output_type": "stream",
          "name": "stdout",
          "text": [
            "Enter the first number: 2\n",
            "Enter the second number: 3\n",
            "Enter the third number: 4\n",
            "The sum of the three numbers is: 9.0\n"
          ]
        }
      ]
    },
    {
      "cell_type": "markdown",
      "source": [
        "**Assingment 2.2**: WAP to concatinate three strings and print the result."
      ],
      "metadata": {
        "id": "knA8jQSGl2BI"
      }
    },
    {
      "cell_type": "code",
      "source": [
        "str1 = input(\"Enter the first string: \")\n",
        "str2 = input(\"Enter the second string: \")\n",
        "str3 = input(\"Enter the third string: \")\n",
        "result = str1 + str2 + str3\n",
        "print(f\"The concatenated string is: {result}\")\n"
      ],
      "metadata": {
        "colab": {
          "base_uri": "https://localhost:8080/"
        },
        "id": "2pe_Ilgbrrdw",
        "outputId": "eb785413-0c7d-4a27-8dad-17056e15312d"
      },
      "execution_count": 5,
      "outputs": [
        {
          "output_type": "stream",
          "name": "stdout",
          "text": [
            "Enter the first string: h\n",
            "Enter the second string: \n",
            "Enter the third string: y\n",
            "The concatenated string is: hy\n"
          ]
        }
      ]
    },
    {
      "cell_type": "markdown",
      "source": [
        "**Assingment 4.1:** WAP to print the table of 7, 9.\n"
      ],
      "metadata": {
        "id": "3bh3zuPil3pF"
      }
    },
    {
      "cell_type": "code",
      "source": [
        "print(\"Table of 7:\")\n",
        "for i in range(1, 11):\n",
        "    print(f\"7 x {i} = {7 * i}\")\n",
        "\n",
        "print(\"\\nTable of 9:\")\n",
        "for i in range(1, 11):\n",
        "    print(f\"9 x {i} = {9 * i}\")\n"
      ],
      "metadata": {
        "colab": {
          "base_uri": "https://localhost:8080/"
        },
        "id": "LWJ7CUQJru0F",
        "outputId": "ebe37fab-467a-400f-dfaf-bc1f3ba87aaa"
      },
      "execution_count": 6,
      "outputs": [
        {
          "output_type": "stream",
          "name": "stdout",
          "text": [
            "Table of 7:\n",
            "7 x 1 = 7\n",
            "7 x 2 = 14\n",
            "7 x 3 = 21\n",
            "7 x 4 = 28\n",
            "7 x 5 = 35\n",
            "7 x 6 = 42\n",
            "7 x 7 = 49\n",
            "7 x 8 = 56\n",
            "7 x 9 = 63\n",
            "7 x 10 = 70\n",
            "\n",
            "Table of 9:\n",
            "9 x 1 = 9\n",
            "9 x 2 = 18\n",
            "9 x 3 = 27\n",
            "9 x 4 = 36\n",
            "9 x 5 = 45\n",
            "9 x 6 = 54\n",
            "9 x 7 = 63\n",
            "9 x 8 = 72\n",
            "9 x 9 = 81\n",
            "9 x 10 = 90\n"
          ]
        }
      ]
    },
    {
      "cell_type": "markdown",
      "source": [
        "**Assingment 4.2:** WAP to print the table of n and n is given by user.\n"
      ],
      "metadata": {
        "id": "kaVExCcLmTDo"
      }
    },
    {
      "cell_type": "code",
      "source": [
        "n = int(input(\"Enter the number to print its table: \"))\n",
        "\n",
        "print(f\"\\nTable of {n}:\")\n",
        "for i in range(1, 11):\n",
        "    print(f\"{n} x {i} = {n * i}\")\n"
      ],
      "metadata": {
        "colab": {
          "base_uri": "https://localhost:8080/"
        },
        "id": "6mpFz-lzrvY5",
        "outputId": "e59d1b7c-e202-40a2-ab2e-c606eb003a6b"
      },
      "execution_count": 7,
      "outputs": [
        {
          "output_type": "stream",
          "name": "stdout",
          "text": [
            "Enter the number to print its table: 44\n",
            "\n",
            "Table of 44:\n",
            "44 x 1 = 44\n",
            "44 x 2 = 88\n",
            "44 x 3 = 132\n",
            "44 x 4 = 176\n",
            "44 x 5 = 220\n",
            "44 x 6 = 264\n",
            "44 x 7 = 308\n",
            "44 x 8 = 352\n",
            "44 x 9 = 396\n",
            "44 x 10 = 440\n"
          ]
        }
      ]
    },
    {
      "cell_type": "markdown",
      "source": [
        "**Assingment 4.3:** WAP to add all the numbers from 1 to n and n is given by user."
      ],
      "metadata": {
        "id": "9LgaN3P_mYv2"
      }
    },
    {
      "cell_type": "code",
      "source": [
        "n = int(input(\"Enter a number (n): \"))\n",
        "\n",
        "total = sum(range(1, n + 1))\n",
        "\n",
        "print(f\"The sum of all numbers from 1 to {n} is: {total}\")\n"
      ],
      "metadata": {
        "colab": {
          "base_uri": "https://localhost:8080/"
        },
        "id": "-wwdz8GmrvyQ",
        "outputId": "80577595-07f3-4c9a-fc9d-8ee156d8bac7"
      },
      "execution_count": 8,
      "outputs": [
        {
          "output_type": "stream",
          "name": "stdout",
          "text": [
            "Enter a number (n): 99\n",
            "The sum of all numbers from 1 to 99 is: 4950\n"
          ]
        }
      ]
    },
    {
      "cell_type": "markdown",
      "source": [
        "**Assingment 5.1:** WAP to find max amoung three numbers and input from user. [Try max() function]\n"
      ],
      "metadata": {
        "id": "cO1M_eiamZj8"
      }
    },
    {
      "cell_type": "code",
      "source": [
        "num1 = float(input(\"Enter the first number: \"))\n",
        "num2 = float(input(\"Enter the second number: \"))\n",
        "num3 = float(input(\"Enter the third number: \"))\n",
        "maximum = max(num1, num2, num3)\n",
        "print(f\"The maximum among the three numbers is: {maximum}\")\n"
      ],
      "metadata": {
        "colab": {
          "base_uri": "https://localhost:8080/"
        },
        "id": "ffjnDhcrrxnv",
        "outputId": "cd0d40da-b621-4a6c-a038-0e3e147b0de5"
      },
      "execution_count": 9,
      "outputs": [
        {
          "output_type": "stream",
          "name": "stdout",
          "text": [
            "Enter the first number: 10\n",
            "Enter the second number: 20\n",
            "Enter the third number: 30\n",
            "The maximum among the three numbers is: 30.0\n"
          ]
        }
      ]
    },
    {
      "cell_type": "markdown",
      "source": [
        "**Assingment 5.2:** WAP to add all numbers divisible by 7 and 9 from 1 to n and n is given by the user.\n"
      ],
      "metadata": {
        "id": "ScsolE1nqBoC"
      }
    },
    {
      "cell_type": "code",
      "source": [
        "n = int(input(\"Enter the value of n: \"))\n",
        "total = sum(x for x in range(1, n + 1) if x % 7 == 0 and x % 9 == 0)\n",
        "print(f\"The sum of all numbers divisible by 7 and 9 from 1 to {n} is: {total}\")\n"
      ],
      "metadata": {
        "colab": {
          "base_uri": "https://localhost:8080/"
        },
        "id": "sTSmqV8ZryAA",
        "outputId": "67aa3a45-39ec-41a6-b901-314e29455e8a"
      },
      "execution_count": 10,
      "outputs": [
        {
          "output_type": "stream",
          "name": "stdout",
          "text": [
            "Enter the value of n: 80\n",
            "The sum of all numbers divisible by 7 and 9 from 1 to 80 is: 63\n"
          ]
        }
      ]
    },
    {
      "cell_type": "markdown",
      "source": [
        "**Assingment 5.3:** WAP to add all prime numbers from 1 to n and n is given by the user.\n"
      ],
      "metadata": {
        "id": "cQyxYf2yqBwN"
      }
    },
    {
      "cell_type": "code",
      "source": [
        "def is_prime(num):\n",
        "    if num < 2:\n",
        "        return False\n",
        "    for i in range(2, int(num ** 0.5) + 1):\n",
        "        if num % i == 0:\n",
        "            return False\n",
        "    return True\n",
        "\n",
        "n = int(input(\"Enter the value of n: \"))\n",
        "\n",
        "total = sum(x for x in range(1, n + 1) if is_prime(x))\n",
        "print(f\"The sum of all prime numbers from 1 to {n} is: {total}\")\n"
      ],
      "metadata": {
        "colab": {
          "base_uri": "https://localhost:8080/"
        },
        "id": "vH8qUeS3ryUI",
        "outputId": "90393473-193c-4ad5-fe21-047714cb7f6a"
      },
      "execution_count": 11,
      "outputs": [
        {
          "output_type": "stream",
          "name": "stdout",
          "text": [
            "Enter the value of n: 5\n",
            "The sum of all prime numbers from 1 to 5 is: 10\n"
          ]
        }
      ]
    },
    {
      "cell_type": "markdown",
      "source": [
        "**Assingment 6.1:** WAP using function that add all odd numbers from 1 to n, n is given by the user.\n"
      ],
      "metadata": {
        "id": "pweHO_2DqB83"
      }
    },
    {
      "cell_type": "code",
      "source": [
        "def sum_of_odds(n):\n",
        "    return sum(x for x in range(1, n + 1) if x % 2 != 0)\n",
        "\n",
        "n = int(input(\"Enter the value of n: \"))\n",
        "\n",
        "etotal = sum_of_odds(n)\n",
        "print(f\"The sum of all odd numbers from 1 to {n} is: {total}\")\n"
      ],
      "metadata": {
        "colab": {
          "base_uri": "https://localhost:8080/"
        },
        "id": "tYQ5wtGvry3a",
        "outputId": "f8d9e704-11ad-4183-c00b-fe2655ff2f19"
      },
      "execution_count": 12,
      "outputs": [
        {
          "output_type": "stream",
          "name": "stdout",
          "text": [
            "Enter the value of n: 30\n",
            "The sum of all odd numbers from 1 to 30 is: 225\n"
          ]
        }
      ]
    },
    {
      "cell_type": "markdown",
      "source": [
        "**Assingment 6.2:** WAP using function that add all prime numbers from 1 to n, n given by the user."
      ],
      "metadata": {
        "id": "rSKAw9O_qCEk"
      }
    },
    {
      "cell_type": "code",
      "source": [
        "def is_prime(num):\n",
        "    if num < 2:\n",
        "        return False\n",
        "    for i in range(2, int(num ** 0.5) + 1):\n",
        "        if num % i == 0:\n",
        "            return False\n",
        "    return True\n",
        "def sum_of_primes(n):\n",
        "    return sum(x for x in range(1, n + 1) if is_prime(x))\n",
        "n = int(input(\"Enter the value of n: \"))\n",
        "total = sum_of_primes(n)\n",
        "print(f\"The sum of all prime numbers from 1 to {n} is: {total}\")\n"
      ],
      "metadata": {
        "colab": {
          "base_uri": "https://localhost:8080/"
        },
        "id": "E-tI03qzrzWE",
        "outputId": "1329179e-402a-48a9-b683-f90d1a5db339"
      },
      "execution_count": 13,
      "outputs": [
        {
          "output_type": "stream",
          "name": "stdout",
          "text": [
            "Enter the value of n: 5\n",
            "The sum of all prime numbers from 1 to 5 is: 10\n"
          ]
        }
      ]
    }
  ]
}